{
 "cells": [
  {
   "cell_type": "markdown",
   "metadata": {},
   "source": [
    "### Model Training\n",
    "\n",
    "This notebook is dedicated to training LogisticRegression machine learning models to predict `late_delivery_risk`. The primary objectives of this notebook are:\n",
    "\n",
    "- **Model Training**: Building and training the Logistic Regression model.\n",
    "- **Hyperparameter Tuning**: Optimizing model parameters to achieve the best possible performance.\n",
    "- **Performance Evaluation**: Assessing the model using metrics such as accuracy, precision, recall, F1-score, and ROC-AUC.\n",
    "- **Cross-Validation**: Evaluating the model's robustness and generalization using k-fold cross-validation.\n",
    "\n",
    "By the end of this notebook, we will have:\n",
    "\n",
    "- A trained and evaluated model for predicting `late_delivery_risk`.\n",
    "- Insights into the most impactful features contributing to the predictions.\n",
    "\n",
    "**Note**:\n",
    "\n",
    "- Some cells are commented out due to their time-consuming nature. Results from these cells are provided as images for reference.\n",
    "- Feature selection is based on the correlation coefficient with the target variable. For more details, refer to the correlation matrix in the `data_cleaning.ipynb` notebook.\n",
    "- For an overview of the dataset and exploratory data analysis, refer to the `eda.ipynb` notebook.\n",
    "\n",
    "**🚨 Check the `README.me` before continuing with this notebook**"
   ]
  },
  {
   "cell_type": "code",
   "execution_count": null,
   "metadata": {},
   "outputs": [],
   "source": [
    "# Standard libraries\n",
    "import pandas as pd\n",
    "\n",
    "# Enable auto-reload for modules during development\n",
    "%load_ext autoreload\n",
    "%autoreload 2\n",
    "\n",
    "import warnings\n",
    "warnings.filterwarnings('ignore')\n",
    "\n",
    "# Set display options for Pandas to show all columns\n",
    "pd.set_option('display.max_columns', None)\n",
    "\n",
    "# sklearn modules\n",
    "from sklearn.linear_model import LogisticRegression\n",
    "\n",
    "# Custom modules\n",
    "from scripts import models_training as cm"
   ]
  },
  {
   "cell_type": "code",
   "execution_count": 3,
   "metadata": {},
   "outputs": [],
   "source": [
    "# Load the dataset (check data_cleaning.ipynb for details in the data cleaning process)\n",
    "path = \"../../data/df_ml.csv\"\n",
    "data = pd.read_csv(path)\n",
    "dataframe = data.copy()"
   ]
  },
  {
   "cell_type": "code",
   "execution_count": 4,
   "metadata": {},
   "outputs": [
    {
     "data": {
      "application/vnd.microsoft.datawrangler.viewer.v0+json": {
       "columns": [
        {
         "name": "index",
         "rawType": "int64",
         "type": "integer"
        },
        {
         "name": "days_for_shipment_scheduled",
         "rawType": "int64",
         "type": "integer"
        },
        {
         "name": "benefit_per_order",
         "rawType": "float64",
         "type": "float"
        },
        {
         "name": "sales_per_customer",
         "rawType": "float64",
         "type": "float"
        },
        {
         "name": "late_delivery_risk",
         "rawType": "int64",
         "type": "integer"
        },
        {
         "name": "customer_zipcode",
         "rawType": "int64",
         "type": "integer"
        },
        {
         "name": "latitude",
         "rawType": "float64",
         "type": "float"
        },
        {
         "name": "longitude",
         "rawType": "float64",
         "type": "float"
        },
        {
         "name": "order_item_discount",
         "rawType": "float64",
         "type": "float"
        },
        {
         "name": "order_item_discount_rate",
         "rawType": "float64",
         "type": "float"
        },
        {
         "name": "order_item_profit_ratio",
         "rawType": "float64",
         "type": "float"
        },
        {
         "name": "order_item_quantity",
         "rawType": "int64",
         "type": "integer"
        },
        {
         "name": "product_price",
         "rawType": "float64",
         "type": "float"
        },
        {
         "name": "year_order",
         "rawType": "int64",
         "type": "integer"
        },
        {
         "name": "hour_order",
         "rawType": "int64",
         "type": "integer"
        },
        {
         "name": "day_order",
         "rawType": "int64",
         "type": "integer"
        },
        {
         "name": "month_order",
         "rawType": "int64",
         "type": "integer"
        },
        {
         "name": "day_of_week_order",
         "rawType": "int64",
         "type": "integer"
        },
        {
         "name": "type_cash",
         "rawType": "int64",
         "type": "integer"
        },
        {
         "name": "type_debit",
         "rawType": "int64",
         "type": "integer"
        },
        {
         "name": "type_payment",
         "rawType": "int64",
         "type": "integer"
        },
        {
         "name": "type_transfer",
         "rawType": "int64",
         "type": "integer"
        },
        {
         "name": "customer_country_ee._uu.",
         "rawType": "int64",
         "type": "integer"
        },
        {
         "name": "customer_country_puerto_rico",
         "rawType": "int64",
         "type": "integer"
        },
        {
         "name": "customer_segment_consumer",
         "rawType": "int64",
         "type": "integer"
        },
        {
         "name": "customer_segment_corporate",
         "rawType": "int64",
         "type": "integer"
        },
        {
         "name": "customer_segment_home_office",
         "rawType": "int64",
         "type": "integer"
        },
        {
         "name": "department_name_apparel",
         "rawType": "int64",
         "type": "integer"
        },
        {
         "name": "department_name_book_shop",
         "rawType": "int64",
         "type": "integer"
        },
        {
         "name": "department_name_discs_shop",
         "rawType": "int64",
         "type": "integer"
        },
        {
         "name": "department_name_fan_shop",
         "rawType": "int64",
         "type": "integer"
        },
        {
         "name": "department_name_fitness",
         "rawType": "int64",
         "type": "integer"
        },
        {
         "name": "department_name_footwear",
         "rawType": "int64",
         "type": "integer"
        },
        {
         "name": "department_name_golf",
         "rawType": "int64",
         "type": "integer"
        },
        {
         "name": "department_name_health_and_beauty_",
         "rawType": "int64",
         "type": "integer"
        },
        {
         "name": "department_name_outdoors",
         "rawType": "int64",
         "type": "integer"
        },
        {
         "name": "department_name_pet_shop",
         "rawType": "int64",
         "type": "integer"
        },
        {
         "name": "department_name_technology",
         "rawType": "int64",
         "type": "integer"
        },
        {
         "name": "market_africa",
         "rawType": "int64",
         "type": "integer"
        },
        {
         "name": "market_europe",
         "rawType": "int64",
         "type": "integer"
        },
        {
         "name": "market_latam",
         "rawType": "int64",
         "type": "integer"
        },
        {
         "name": "market_pacific_asia",
         "rawType": "int64",
         "type": "integer"
        },
        {
         "name": "market_usca",
         "rawType": "int64",
         "type": "integer"
        },
        {
         "name": "shipping_mode_first_class",
         "rawType": "int64",
         "type": "integer"
        },
        {
         "name": "shipping_mode_same_day",
         "rawType": "int64",
         "type": "integer"
        },
        {
         "name": "shipping_mode_second_class",
         "rawType": "int64",
         "type": "integer"
        },
        {
         "name": "shipping_mode_standard_class",
         "rawType": "int64",
         "type": "integer"
        }
       ],
       "conversionMethod": "pd.DataFrame",
       "ref": "e1a5d869-d8f7-4804-a236-0cd3da45aa07",
       "rows": [
        [
         "0",
         "4",
         "88.79000092",
         "239.9799957",
         "0",
         "28601",
         "35.77666092",
         "-81.36262512",
         "60.0",
         "0.200000003",
         "0.370000005",
         "1",
         "299.980011",
         "2015",
         "0",
         "1",
         "1",
         "4",
         "1",
         "0",
         "0",
         "0",
         "1",
         "0",
         "1",
         "0",
         "0",
         "0",
         "0",
         "0",
         "1",
         "0",
         "0",
         "0",
         "0",
         "0",
         "0",
         "0",
         "0",
         "0",
         "1",
         "0",
         "0",
         "0",
         "0",
         "0",
         "1"
        ],
        [
         "1",
         "4",
         "36.47000122",
         "107.8899994",
         "0",
         "60625",
         "41.83272171",
         "-87.98048401",
         "22.10000038",
         "0.170000002",
         "0.340000004",
         "1",
         "129.9900055",
         "2015",
         "0",
         "1",
         "1",
         "4",
         "0",
         "0",
         "1",
         "0",
         "1",
         "0",
         "1",
         "0",
         "0",
         "1",
         "0",
         "0",
         "0",
         "0",
         "0",
         "0",
         "0",
         "0",
         "0",
         "0",
         "0",
         "0",
         "1",
         "0",
         "0",
         "0",
         "0",
         "0",
         "1"
        ],
        [
         "2",
         "4",
         "91.18000031",
         "193.9900055",
         "0",
         "60625",
         "41.83272171",
         "-87.98048401",
         "6.0",
         "0.029999999",
         "0.469999999",
         "1",
         "199.9900055",
         "2015",
         "0",
         "1",
         "1",
         "4",
         "0",
         "0",
         "1",
         "0",
         "1",
         "0",
         "1",
         "0",
         "0",
         "0",
         "0",
         "0",
         "1",
         "0",
         "0",
         "0",
         "0",
         "0",
         "0",
         "0",
         "0",
         "0",
         "1",
         "0",
         "0",
         "0",
         "0",
         "0",
         "1"
        ],
        [
         "3",
         "4",
         "68.25",
         "227.5",
         "0",
         "60625",
         "41.83272171",
         "-87.98048401",
         "22.5",
         "0.090000004",
         "0.300000012",
         "5",
         "50.0",
         "2015",
         "0",
         "1",
         "1",
         "4",
         "0",
         "0",
         "1",
         "0",
         "1",
         "0",
         "1",
         "0",
         "0",
         "0",
         "0",
         "0",
         "0",
         "0",
         "0",
         "1",
         "0",
         "0",
         "0",
         "0",
         "0",
         "0",
         "1",
         "0",
         "0",
         "0",
         "0",
         "0",
         "1"
        ],
        [
         "4",
         "4",
         "4.099999905",
         "40.97999954",
         "1",
         "78240",
         "29.52001",
         "-98.63741303",
         "9.0",
         "0.180000007",
         "0.100000001",
         "2",
         "24.98999977",
         "2015",
         "1",
         "1",
         "1",
         "4",
         "1",
         "0",
         "0",
         "0",
         "1",
         "0",
         "0",
         "0",
         "1",
         "0",
         "0",
         "0",
         "0",
         "0",
         "0",
         "0",
         "0",
         "1",
         "0",
         "0",
         "0",
         "0",
         "1",
         "0",
         "0",
         "0",
         "0",
         "0",
         "1"
        ]
       ],
       "shape": {
        "columns": 46,
        "rows": 5
       }
      },
      "text/html": [
       "<div>\n",
       "<style scoped>\n",
       "    .dataframe tbody tr th:only-of-type {\n",
       "        vertical-align: middle;\n",
       "    }\n",
       "\n",
       "    .dataframe tbody tr th {\n",
       "        vertical-align: top;\n",
       "    }\n",
       "\n",
       "    .dataframe thead th {\n",
       "        text-align: right;\n",
       "    }\n",
       "</style>\n",
       "<table border=\"1\" class=\"dataframe\">\n",
       "  <thead>\n",
       "    <tr style=\"text-align: right;\">\n",
       "      <th></th>\n",
       "      <th>days_for_shipment_scheduled</th>\n",
       "      <th>benefit_per_order</th>\n",
       "      <th>sales_per_customer</th>\n",
       "      <th>late_delivery_risk</th>\n",
       "      <th>customer_zipcode</th>\n",
       "      <th>latitude</th>\n",
       "      <th>longitude</th>\n",
       "      <th>order_item_discount</th>\n",
       "      <th>order_item_discount_rate</th>\n",
       "      <th>order_item_profit_ratio</th>\n",
       "      <th>order_item_quantity</th>\n",
       "      <th>product_price</th>\n",
       "      <th>year_order</th>\n",
       "      <th>hour_order</th>\n",
       "      <th>day_order</th>\n",
       "      <th>month_order</th>\n",
       "      <th>day_of_week_order</th>\n",
       "      <th>type_cash</th>\n",
       "      <th>type_debit</th>\n",
       "      <th>type_payment</th>\n",
       "      <th>type_transfer</th>\n",
       "      <th>customer_country_ee._uu.</th>\n",
       "      <th>customer_country_puerto_rico</th>\n",
       "      <th>customer_segment_consumer</th>\n",
       "      <th>customer_segment_corporate</th>\n",
       "      <th>customer_segment_home_office</th>\n",
       "      <th>department_name_apparel</th>\n",
       "      <th>department_name_book_shop</th>\n",
       "      <th>department_name_discs_shop</th>\n",
       "      <th>department_name_fan_shop</th>\n",
       "      <th>department_name_fitness</th>\n",
       "      <th>department_name_footwear</th>\n",
       "      <th>department_name_golf</th>\n",
       "      <th>department_name_health_and_beauty_</th>\n",
       "      <th>department_name_outdoors</th>\n",
       "      <th>department_name_pet_shop</th>\n",
       "      <th>department_name_technology</th>\n",
       "      <th>market_africa</th>\n",
       "      <th>market_europe</th>\n",
       "      <th>market_latam</th>\n",
       "      <th>market_pacific_asia</th>\n",
       "      <th>market_usca</th>\n",
       "      <th>shipping_mode_first_class</th>\n",
       "      <th>shipping_mode_same_day</th>\n",
       "      <th>shipping_mode_second_class</th>\n",
       "      <th>shipping_mode_standard_class</th>\n",
       "    </tr>\n",
       "  </thead>\n",
       "  <tbody>\n",
       "    <tr>\n",
       "      <th>0</th>\n",
       "      <td>4</td>\n",
       "      <td>88.790001</td>\n",
       "      <td>239.979996</td>\n",
       "      <td>0</td>\n",
       "      <td>28601</td>\n",
       "      <td>35.776661</td>\n",
       "      <td>-81.362625</td>\n",
       "      <td>60.0</td>\n",
       "      <td>0.20</td>\n",
       "      <td>0.37</td>\n",
       "      <td>1</td>\n",
       "      <td>299.980011</td>\n",
       "      <td>2015</td>\n",
       "      <td>0</td>\n",
       "      <td>1</td>\n",
       "      <td>1</td>\n",
       "      <td>4</td>\n",
       "      <td>1</td>\n",
       "      <td>0</td>\n",
       "      <td>0</td>\n",
       "      <td>0</td>\n",
       "      <td>1</td>\n",
       "      <td>0</td>\n",
       "      <td>1</td>\n",
       "      <td>0</td>\n",
       "      <td>0</td>\n",
       "      <td>0</td>\n",
       "      <td>0</td>\n",
       "      <td>0</td>\n",
       "      <td>1</td>\n",
       "      <td>0</td>\n",
       "      <td>0</td>\n",
       "      <td>0</td>\n",
       "      <td>0</td>\n",
       "      <td>0</td>\n",
       "      <td>0</td>\n",
       "      <td>0</td>\n",
       "      <td>0</td>\n",
       "      <td>0</td>\n",
       "      <td>1</td>\n",
       "      <td>0</td>\n",
       "      <td>0</td>\n",
       "      <td>0</td>\n",
       "      <td>0</td>\n",
       "      <td>0</td>\n",
       "      <td>1</td>\n",
       "    </tr>\n",
       "    <tr>\n",
       "      <th>1</th>\n",
       "      <td>4</td>\n",
       "      <td>36.470001</td>\n",
       "      <td>107.889999</td>\n",
       "      <td>0</td>\n",
       "      <td>60625</td>\n",
       "      <td>41.832722</td>\n",
       "      <td>-87.980484</td>\n",
       "      <td>22.1</td>\n",
       "      <td>0.17</td>\n",
       "      <td>0.34</td>\n",
       "      <td>1</td>\n",
       "      <td>129.990005</td>\n",
       "      <td>2015</td>\n",
       "      <td>0</td>\n",
       "      <td>1</td>\n",
       "      <td>1</td>\n",
       "      <td>4</td>\n",
       "      <td>0</td>\n",
       "      <td>0</td>\n",
       "      <td>1</td>\n",
       "      <td>0</td>\n",
       "      <td>1</td>\n",
       "      <td>0</td>\n",
       "      <td>1</td>\n",
       "      <td>0</td>\n",
       "      <td>0</td>\n",
       "      <td>1</td>\n",
       "      <td>0</td>\n",
       "      <td>0</td>\n",
       "      <td>0</td>\n",
       "      <td>0</td>\n",
       "      <td>0</td>\n",
       "      <td>0</td>\n",
       "      <td>0</td>\n",
       "      <td>0</td>\n",
       "      <td>0</td>\n",
       "      <td>0</td>\n",
       "      <td>0</td>\n",
       "      <td>0</td>\n",
       "      <td>1</td>\n",
       "      <td>0</td>\n",
       "      <td>0</td>\n",
       "      <td>0</td>\n",
       "      <td>0</td>\n",
       "      <td>0</td>\n",
       "      <td>1</td>\n",
       "    </tr>\n",
       "    <tr>\n",
       "      <th>2</th>\n",
       "      <td>4</td>\n",
       "      <td>91.180000</td>\n",
       "      <td>193.990005</td>\n",
       "      <td>0</td>\n",
       "      <td>60625</td>\n",
       "      <td>41.832722</td>\n",
       "      <td>-87.980484</td>\n",
       "      <td>6.0</td>\n",
       "      <td>0.03</td>\n",
       "      <td>0.47</td>\n",
       "      <td>1</td>\n",
       "      <td>199.990005</td>\n",
       "      <td>2015</td>\n",
       "      <td>0</td>\n",
       "      <td>1</td>\n",
       "      <td>1</td>\n",
       "      <td>4</td>\n",
       "      <td>0</td>\n",
       "      <td>0</td>\n",
       "      <td>1</td>\n",
       "      <td>0</td>\n",
       "      <td>1</td>\n",
       "      <td>0</td>\n",
       "      <td>1</td>\n",
       "      <td>0</td>\n",
       "      <td>0</td>\n",
       "      <td>0</td>\n",
       "      <td>0</td>\n",
       "      <td>0</td>\n",
       "      <td>1</td>\n",
       "      <td>0</td>\n",
       "      <td>0</td>\n",
       "      <td>0</td>\n",
       "      <td>0</td>\n",
       "      <td>0</td>\n",
       "      <td>0</td>\n",
       "      <td>0</td>\n",
       "      <td>0</td>\n",
       "      <td>0</td>\n",
       "      <td>1</td>\n",
       "      <td>0</td>\n",
       "      <td>0</td>\n",
       "      <td>0</td>\n",
       "      <td>0</td>\n",
       "      <td>0</td>\n",
       "      <td>1</td>\n",
       "    </tr>\n",
       "    <tr>\n",
       "      <th>3</th>\n",
       "      <td>4</td>\n",
       "      <td>68.250000</td>\n",
       "      <td>227.500000</td>\n",
       "      <td>0</td>\n",
       "      <td>60625</td>\n",
       "      <td>41.832722</td>\n",
       "      <td>-87.980484</td>\n",
       "      <td>22.5</td>\n",
       "      <td>0.09</td>\n",
       "      <td>0.30</td>\n",
       "      <td>5</td>\n",
       "      <td>50.000000</td>\n",
       "      <td>2015</td>\n",
       "      <td>0</td>\n",
       "      <td>1</td>\n",
       "      <td>1</td>\n",
       "      <td>4</td>\n",
       "      <td>0</td>\n",
       "      <td>0</td>\n",
       "      <td>1</td>\n",
       "      <td>0</td>\n",
       "      <td>1</td>\n",
       "      <td>0</td>\n",
       "      <td>1</td>\n",
       "      <td>0</td>\n",
       "      <td>0</td>\n",
       "      <td>0</td>\n",
       "      <td>0</td>\n",
       "      <td>0</td>\n",
       "      <td>0</td>\n",
       "      <td>0</td>\n",
       "      <td>0</td>\n",
       "      <td>1</td>\n",
       "      <td>0</td>\n",
       "      <td>0</td>\n",
       "      <td>0</td>\n",
       "      <td>0</td>\n",
       "      <td>0</td>\n",
       "      <td>0</td>\n",
       "      <td>1</td>\n",
       "      <td>0</td>\n",
       "      <td>0</td>\n",
       "      <td>0</td>\n",
       "      <td>0</td>\n",
       "      <td>0</td>\n",
       "      <td>1</td>\n",
       "    </tr>\n",
       "    <tr>\n",
       "      <th>4</th>\n",
       "      <td>4</td>\n",
       "      <td>4.100000</td>\n",
       "      <td>40.980000</td>\n",
       "      <td>1</td>\n",
       "      <td>78240</td>\n",
       "      <td>29.520010</td>\n",
       "      <td>-98.637413</td>\n",
       "      <td>9.0</td>\n",
       "      <td>0.18</td>\n",
       "      <td>0.10</td>\n",
       "      <td>2</td>\n",
       "      <td>24.990000</td>\n",
       "      <td>2015</td>\n",
       "      <td>1</td>\n",
       "      <td>1</td>\n",
       "      <td>1</td>\n",
       "      <td>4</td>\n",
       "      <td>1</td>\n",
       "      <td>0</td>\n",
       "      <td>0</td>\n",
       "      <td>0</td>\n",
       "      <td>1</td>\n",
       "      <td>0</td>\n",
       "      <td>0</td>\n",
       "      <td>0</td>\n",
       "      <td>1</td>\n",
       "      <td>0</td>\n",
       "      <td>0</td>\n",
       "      <td>0</td>\n",
       "      <td>0</td>\n",
       "      <td>0</td>\n",
       "      <td>0</td>\n",
       "      <td>0</td>\n",
       "      <td>0</td>\n",
       "      <td>1</td>\n",
       "      <td>0</td>\n",
       "      <td>0</td>\n",
       "      <td>0</td>\n",
       "      <td>0</td>\n",
       "      <td>1</td>\n",
       "      <td>0</td>\n",
       "      <td>0</td>\n",
       "      <td>0</td>\n",
       "      <td>0</td>\n",
       "      <td>0</td>\n",
       "      <td>1</td>\n",
       "    </tr>\n",
       "  </tbody>\n",
       "</table>\n",
       "</div>"
      ],
      "text/plain": [
       "   days_for_shipment_scheduled  benefit_per_order  sales_per_customer  \\\n",
       "0                            4          88.790001          239.979996   \n",
       "1                            4          36.470001          107.889999   \n",
       "2                            4          91.180000          193.990005   \n",
       "3                            4          68.250000          227.500000   \n",
       "4                            4           4.100000           40.980000   \n",
       "\n",
       "   late_delivery_risk  customer_zipcode   latitude  longitude  \\\n",
       "0                   0             28601  35.776661 -81.362625   \n",
       "1                   0             60625  41.832722 -87.980484   \n",
       "2                   0             60625  41.832722 -87.980484   \n",
       "3                   0             60625  41.832722 -87.980484   \n",
       "4                   1             78240  29.520010 -98.637413   \n",
       "\n",
       "   order_item_discount  order_item_discount_rate  order_item_profit_ratio  \\\n",
       "0                 60.0                      0.20                     0.37   \n",
       "1                 22.1                      0.17                     0.34   \n",
       "2                  6.0                      0.03                     0.47   \n",
       "3                 22.5                      0.09                     0.30   \n",
       "4                  9.0                      0.18                     0.10   \n",
       "\n",
       "   order_item_quantity  product_price  year_order  hour_order  day_order  \\\n",
       "0                    1     299.980011        2015           0          1   \n",
       "1                    1     129.990005        2015           0          1   \n",
       "2                    1     199.990005        2015           0          1   \n",
       "3                    5      50.000000        2015           0          1   \n",
       "4                    2      24.990000        2015           1          1   \n",
       "\n",
       "   month_order  day_of_week_order  type_cash  type_debit  type_payment  \\\n",
       "0            1                  4          1           0             0   \n",
       "1            1                  4          0           0             1   \n",
       "2            1                  4          0           0             1   \n",
       "3            1                  4          0           0             1   \n",
       "4            1                  4          1           0             0   \n",
       "\n",
       "   type_transfer  customer_country_ee._uu.  customer_country_puerto_rico  \\\n",
       "0              0                         1                             0   \n",
       "1              0                         1                             0   \n",
       "2              0                         1                             0   \n",
       "3              0                         1                             0   \n",
       "4              0                         1                             0   \n",
       "\n",
       "   customer_segment_consumer  customer_segment_corporate  \\\n",
       "0                          1                           0   \n",
       "1                          1                           0   \n",
       "2                          1                           0   \n",
       "3                          1                           0   \n",
       "4                          0                           0   \n",
       "\n",
       "   customer_segment_home_office  department_name_apparel  \\\n",
       "0                             0                        0   \n",
       "1                             0                        1   \n",
       "2                             0                        0   \n",
       "3                             0                        0   \n",
       "4                             1                        0   \n",
       "\n",
       "   department_name_book_shop  department_name_discs_shop  \\\n",
       "0                          0                           0   \n",
       "1                          0                           0   \n",
       "2                          0                           0   \n",
       "3                          0                           0   \n",
       "4                          0                           0   \n",
       "\n",
       "   department_name_fan_shop  department_name_fitness  \\\n",
       "0                         1                        0   \n",
       "1                         0                        0   \n",
       "2                         1                        0   \n",
       "3                         0                        0   \n",
       "4                         0                        0   \n",
       "\n",
       "   department_name_footwear  department_name_golf  \\\n",
       "0                         0                     0   \n",
       "1                         0                     0   \n",
       "2                         0                     0   \n",
       "3                         0                     1   \n",
       "4                         0                     0   \n",
       "\n",
       "   department_name_health_and_beauty_  department_name_outdoors  \\\n",
       "0                                   0                         0   \n",
       "1                                   0                         0   \n",
       "2                                   0                         0   \n",
       "3                                   0                         0   \n",
       "4                                   0                         1   \n",
       "\n",
       "   department_name_pet_shop  department_name_technology  market_africa  \\\n",
       "0                         0                           0              0   \n",
       "1                         0                           0              0   \n",
       "2                         0                           0              0   \n",
       "3                         0                           0              0   \n",
       "4                         0                           0              0   \n",
       "\n",
       "   market_europe  market_latam  market_pacific_asia  market_usca  \\\n",
       "0              0             1                    0            0   \n",
       "1              0             1                    0            0   \n",
       "2              0             1                    0            0   \n",
       "3              0             1                    0            0   \n",
       "4              0             1                    0            0   \n",
       "\n",
       "   shipping_mode_first_class  shipping_mode_same_day  \\\n",
       "0                          0                       0   \n",
       "1                          0                       0   \n",
       "2                          0                       0   \n",
       "3                          0                       0   \n",
       "4                          0                       0   \n",
       "\n",
       "   shipping_mode_second_class  shipping_mode_standard_class  \n",
       "0                           0                             1  \n",
       "1                           0                             1  \n",
       "2                           0                             1  \n",
       "3                           0                             1  \n",
       "4                           0                             1  "
      ]
     },
     "execution_count": 4,
     "metadata": {},
     "output_type": "execute_result"
    }
   ],
   "source": [
    "# Lets recheck the dataframe\n",
    "dataframe.head()"
   ]
  },
  {
   "cell_type": "markdown",
   "metadata": {},
   "source": [
    "# LogisticRegression"
   ]
  },
  {
   "cell_type": "code",
   "execution_count": 6,
   "metadata": {},
   "outputs": [],
   "source": [
    "model_to_test = LogisticRegression"
   ]
  },
  {
   "cell_type": "markdown",
   "metadata": {},
   "source": [
    "## Base Model"
   ]
  },
  {
   "cell_type": "code",
   "execution_count": 7,
   "metadata": {},
   "outputs": [
    {
     "name": "stdout",
     "output_type": "stream",
     "text": [
      "Features with correlation coefficient with target > than 1e-05\n",
      "Columns that will be used for the training:\n",
      " ['shipping_mode_first_class', 'shipping_mode_second_class', 'hour_order', 'type_debit', 'type_payment', 'type_cash', 'market_europe', 'department_name_pet_shop', 'department_name_outdoors', 'customer_zipcode', 'month_order', 'market_pacific_asia', 'customer_segment_home_office', 'department_name_fitness', 'department_name_book_shop', 'day_of_week_order', 'customer_country_ee._uu.', 'department_name_health_and_beauty_', 'latitude', 'order_item_discount_rate', 'department_name_technology', 'order_item_quantity', 'market_usca', 'customer_segment_consumer', 'department_name_golf', 'department_name_footwear', 'order_item_discount', 'department_name_discs_shop', 'department_name_fan_shop', 'department_name_apparel', 'customer_country_puerto_rico', 'market_africa', 'customer_segment_corporate', 'longitude', 'day_order', 'year_order', 'product_price', 'order_item_profit_ratio', 'benefit_per_order', 'sales_per_customer', 'market_latam', 'shipping_mode_same_day', 'type_transfer', 'days_for_shipment_scheduled', 'shipping_mode_standard_class'] \n",
      "\n"
     ]
    }
   ],
   "source": [
    "# Selecting features \n",
    "correlated_columns = cm.selecting_features(dataframe, 'late_delivery_risk', corr_coef=0.00001)"
   ]
  },
  {
   "cell_type": "code",
   "execution_count": 8,
   "metadata": {},
   "outputs": [
    {
     "name": "stdout",
     "output_type": "stream",
     "text": [
      "Test size 20%:\n",
      "Training set size: 144412 | Test set size: 36104\n"
     ]
    }
   ],
   "source": [
    "# Splitting the data\n",
    "X_train, X_test, y_train, y_test = cm.select_training_set(dataframe, 'late_delivery_risk', correlated_columns, test_size=0.2)"
   ]
  },
  {
   "cell_type": "code",
   "execution_count": 9,
   "metadata": {},
   "outputs": [
    {
     "name": "stdout",
     "output_type": "stream",
     "text": [
      "Logistic Regression initialized.\n",
      "Model Metrics: | Accuracy = 0.5674 | Precision = 0.5846 | Recall = 0.7306 | F1-score = 0.6495 |\n",
      "Confusion Matrix: \n",
      "[[ 6017 10281]\n",
      " [ 5336 14470]]\n",
      "\n",
      "The model performs poorly. Consider feature selection or hyperparameter tuning.\n",
      "\n"
     ]
    }
   ],
   "source": [
    "# Train the model \n",
    "results_list, model_tree = cm.train_model(X_train, X_test, y_train, y_test, model_name = model_to_test)"
   ]
  },
  {
   "cell_type": "code",
   "execution_count": 11,
   "metadata": {},
   "outputs": [
    {
     "name": "stdout",
     "output_type": "stream",
     "text": [
      "Features with correlation coefficient with target > than 1e-05\n",
      "Columns that will be used for the training:\n",
      " ['shipping_mode_first_class', 'shipping_mode_second_class', 'hour_order', 'type_debit', 'type_payment', 'type_cash', 'market_europe', 'department_name_pet_shop', 'department_name_outdoors', 'customer_zipcode', 'month_order', 'market_pacific_asia', 'customer_segment_home_office', 'department_name_fitness', 'department_name_book_shop', 'day_of_week_order', 'customer_country_ee._uu.', 'department_name_health_and_beauty_', 'latitude', 'order_item_discount_rate', 'department_name_technology', 'order_item_quantity', 'market_usca', 'customer_segment_consumer', 'department_name_golf', 'department_name_footwear', 'order_item_discount', 'department_name_discs_shop', 'department_name_fan_shop', 'department_name_apparel', 'customer_country_puerto_rico', 'market_africa', 'customer_segment_corporate', 'longitude', 'day_order', 'year_order', 'product_price', 'order_item_profit_ratio', 'benefit_per_order', 'sales_per_customer', 'market_latam', 'shipping_mode_same_day', 'type_transfer', 'days_for_shipment_scheduled', 'shipping_mode_standard_class'] \n",
      "\n",
      "Test size 30%:\n",
      "Training set size: 126361 | Test set size: 54155\n",
      "Logistic Regression initialized.\n",
      "Model Metrics: | Accuracy = 0.5522 | Precision = 0.5516 | Recall = 0.9903 | F1-score = 0.7085 |\n",
      "Confusion Matrix: \n",
      "[[  427 23963]\n",
      " [  290 29475]]\n",
      "\n",
      "The model performs poorly. Consider feature selection or hyperparameter tuning.\n",
      "\n",
      "Test size 20%:\n",
      "Training set size: 144412 | Test set size: 36104\n",
      "Logistic Regression initialized.\n",
      "Model Metrics: | Accuracy = 0.5674 | Precision = 0.5846 | Recall = 0.7306 | F1-score = 0.6495 |\n",
      "Confusion Matrix: \n",
      "[[ 6017 10281]\n",
      " [ 5336 14470]]\n",
      "\n",
      "The model performs poorly. Consider feature selection or hyperparameter tuning.\n",
      "\n",
      "Test size 10%:\n",
      "Training set size: 162464 | Test set size: 18052\n",
      "Logistic Regression initialized.\n",
      "Model Metrics: | Accuracy = 0.5865 | Precision = 0.6138 | Recall = 0.6508 | F1-score = 0.6318 |\n",
      "Confusion Matrix: \n",
      "[[4185 4029]\n",
      " [3435 6403]]\n",
      "\n",
      "The model performs poorly. Consider feature selection or hyperparameter tuning.\n",
      "\n",
      "Features with correlation coefficient with target > than 0.01\n",
      "Columns that will be used for the training:\n",
      " ['shipping_mode_first_class', 'shipping_mode_second_class', 'hour_order', 'type_debit', 'type_payment', 'type_cash', 'shipping_mode_same_day', 'type_transfer', 'days_for_shipment_scheduled', 'shipping_mode_standard_class'] \n",
      "\n",
      "Test size 30%:\n",
      "Training set size: 126361 | Test set size: 54155\n",
      "Logistic Regression initialized.\n",
      "Model Metrics: | Accuracy = 0.7072 | Precision = 0.8573 | Recall = 0.5605 | F1-score = 0.6779 |\n",
      "Confusion Matrix: \n",
      "[[21613  2777]\n",
      " [13081 16684]]\n",
      "\n",
      "The model is moderately good but could be improved.\n",
      "\n",
      "Test size 20%:\n",
      "Training set size: 144412 | Test set size: 36104\n",
      "Logistic Regression initialized.\n",
      "Model Metrics: | Accuracy = 0.7085 | Precision = 0.855 | Recall = 0.5644 | F1-score = 0.6799 |\n",
      "Confusion Matrix: \n",
      "[[14403  1895]\n",
      " [ 8628 11178]]\n",
      "\n",
      "The model is moderately good but could be improved.\n",
      "\n",
      "Test size 10%:\n",
      "Training set size: 162464 | Test set size: 18052\n",
      "Logistic Regression initialized.\n",
      "Model Metrics: | Accuracy = 0.708 | Precision = 0.8492 | Recall = 0.5643 | F1-score = 0.6781 |\n",
      "Confusion Matrix: \n",
      "[[7228  986]\n",
      " [4286 5552]]\n",
      "\n",
      "The model is moderately good but could be improved.\n",
      "\n",
      "Features with correlation coefficient with target > than 0.02\n",
      "Columns that will be used for the training:\n",
      " ['shipping_mode_first_class', 'shipping_mode_second_class', 'hour_order', 'type_debit', 'type_payment', 'shipping_mode_same_day', 'type_transfer', 'days_for_shipment_scheduled', 'shipping_mode_standard_class'] \n",
      "\n",
      "Test size 30%:\n",
      "Training set size: 126361 | Test set size: 54155\n",
      "Logistic Regression initialized.\n",
      "Model Metrics: | Accuracy = 0.7075 | Precision = 0.8574 | Recall = 0.5612 | F1-score = 0.6784 |\n",
      "Confusion Matrix: \n",
      "[[21613  2777]\n",
      " [13062 16703]]\n",
      "\n",
      "The model is moderately good but could be improved.\n",
      "\n",
      "Test size 20%:\n",
      "Training set size: 144412 | Test set size: 36104\n",
      "Logistic Regression initialized.\n",
      "Model Metrics: | Accuracy = 0.7091 | Precision = 0.8553 | Recall = 0.5653 | F1-score = 0.6807 |\n",
      "Confusion Matrix: \n",
      "[[14403  1895]\n",
      " [ 8609 11197]]\n",
      "\n",
      "The model is moderately good but could be improved.\n",
      "\n",
      "Test size 10%:\n",
      "Training set size: 162464 | Test set size: 18052\n",
      "Logistic Regression initialized.\n",
      "Model Metrics: | Accuracy = 0.708 | Precision = 0.8492 | Recall = 0.5643 | F1-score = 0.6781 |\n",
      "Confusion Matrix: \n",
      "[[7228  986]\n",
      " [4286 5552]]\n",
      "\n",
      "The model is moderately good but could be improved.\n",
      "\n",
      "Features with correlation coefficient with target > than 0.03\n",
      "Columns that will be used for the training:\n",
      " ['shipping_mode_first_class', 'shipping_mode_second_class', 'hour_order', 'type_debit', 'shipping_mode_same_day', 'type_transfer', 'days_for_shipment_scheduled', 'shipping_mode_standard_class'] \n",
      "\n",
      "Test size 30%:\n",
      "Training set size: 126361 | Test set size: 54155\n",
      "Logistic Regression initialized.\n",
      "Model Metrics: | Accuracy = 0.708 | Precision = 0.8576 | Recall = 0.562 | F1-score = 0.6791 |\n",
      "Confusion Matrix: \n",
      "[[21613  2777]\n",
      " [13036 16729]]\n",
      "\n",
      "The model is moderately good but could be improved.\n",
      "\n",
      "Test size 20%:\n",
      "Training set size: 144412 | Test set size: 36104\n",
      "Logistic Regression initialized.\n",
      "Model Metrics: | Accuracy = 0.7091 | Precision = 0.8553 | Recall = 0.5654 | F1-score = 0.6808 |\n",
      "Confusion Matrix: \n",
      "[[14403  1895]\n",
      " [ 8608 11198]]\n",
      "\n",
      "The model is moderately good but could be improved.\n",
      "\n",
      "Test size 10%:\n",
      "Training set size: 162464 | Test set size: 18052\n",
      "Logistic Regression initialized.\n",
      "Model Metrics: | Accuracy = 0.7087 | Precision = 0.8495 | Recall = 0.5657 | F1-score = 0.6791 |\n",
      "Confusion Matrix: \n",
      "[[7228  986]\n",
      " [4273 5565]]\n",
      "\n",
      "The model is moderately good but could be improved.\n",
      "\n",
      "Features with correlation coefficient with target > than 0.04\n",
      "Columns that will be used for the training:\n",
      " ['shipping_mode_first_class', 'shipping_mode_second_class', 'hour_order', 'shipping_mode_same_day', 'type_transfer', 'days_for_shipment_scheduled', 'shipping_mode_standard_class'] \n",
      "\n",
      "Test size 30%:\n",
      "Training set size: 126361 | Test set size: 54155\n",
      "Logistic Regression initialized.\n",
      "Model Metrics: | Accuracy = 0.7072 | Precision = 0.8573 | Recall = 0.5605 | F1-score = 0.6779 |\n",
      "Confusion Matrix: \n",
      "[[21613  2777]\n",
      " [13081 16684]]\n",
      "\n",
      "The model is moderately good but could be improved.\n",
      "\n",
      "Test size 20%:\n",
      "Training set size: 144412 | Test set size: 36104\n",
      "Logistic Regression initialized.\n",
      "Model Metrics: | Accuracy = 0.7091 | Precision = 0.8553 | Recall = 0.5654 | F1-score = 0.6808 |\n",
      "Confusion Matrix: \n",
      "[[14403  1895]\n",
      " [ 8608 11198]]\n",
      "\n",
      "The model is moderately good but could be improved.\n",
      "\n",
      "Test size 10%:\n",
      "Training set size: 162464 | Test set size: 18052\n",
      "Logistic Regression initialized.\n",
      "Model Metrics: | Accuracy = 0.7078 | Precision = 0.8491 | Recall = 0.5641 | F1-score = 0.6779 |\n",
      "Confusion Matrix: \n",
      "[[7228  986]\n",
      " [4288 5550]]\n",
      "\n",
      "The model is moderately good but could be improved.\n",
      "\n",
      "Features with correlation coefficient with target > than 0.08\n",
      "Columns that will be used for the training:\n",
      " ['shipping_mode_first_class', 'shipping_mode_second_class', 'days_for_shipment_scheduled', 'shipping_mode_standard_class'] \n",
      "\n",
      "Test size 30%:\n",
      "Training set size: 126361 | Test set size: 54155\n",
      "Logistic Regression initialized.\n",
      "Model Metrics: | Accuracy = 0.6931 | Precision = 0.8515 | Recall = 0.535 | F1-score = 0.6571 |\n",
      "Confusion Matrix: \n",
      "[[21613  2777]\n",
      " [13841 15924]]\n",
      "\n",
      "The model is moderately good but could be improved.\n",
      "\n",
      "Test size 20%:\n",
      "Training set size: 144412 | Test set size: 36104\n",
      "Logistic Regression initialized.\n",
      "Model Metrics: | Accuracy = 0.6937 | Precision = 0.8489 | Recall = 0.5374 | F1-score = 0.6582 |\n",
      "Confusion Matrix: \n",
      "[[14403  1895]\n",
      " [ 9162 10644]]\n",
      "\n",
      "The model is moderately good but could be improved.\n",
      "\n",
      "Test size 10%:\n",
      "Training set size: 162464 | Test set size: 18052\n",
      "Logistic Regression initialized.\n",
      "Model Metrics: | Accuracy = 0.6939 | Precision = 0.8431 | Recall = 0.5386 | F1-score = 0.6573 |\n",
      "Confusion Matrix: \n",
      "[[7228  986]\n",
      " [4539 5299]]\n",
      "\n",
      "The model is moderately good but could be improved.\n",
      "\n",
      "Features with correlation coefficient with target > than 0.2\n",
      "Columns that will be used for the training:\n",
      " ['shipping_mode_first_class', 'shipping_mode_second_class', 'days_for_shipment_scheduled', 'shipping_mode_standard_class'] \n",
      "\n",
      "Test size 30%:\n",
      "Training set size: 126361 | Test set size: 54155\n",
      "Logistic Regression initialized.\n",
      "Model Metrics: | Accuracy = 0.6931 | Precision = 0.8515 | Recall = 0.535 | F1-score = 0.6571 |\n",
      "Confusion Matrix: \n",
      "[[21613  2777]\n",
      " [13841 15924]]\n",
      "\n",
      "The model is moderately good but could be improved.\n",
      "\n",
      "Test size 20%:\n",
      "Training set size: 144412 | Test set size: 36104\n",
      "Logistic Regression initialized.\n",
      "Model Metrics: | Accuracy = 0.6937 | Precision = 0.8489 | Recall = 0.5374 | F1-score = 0.6582 |\n",
      "Confusion Matrix: \n",
      "[[14403  1895]\n",
      " [ 9162 10644]]\n",
      "\n",
      "The model is moderately good but could be improved.\n",
      "\n",
      "Test size 10%:\n",
      "Training set size: 162464 | Test set size: 18052\n",
      "Logistic Regression initialized.\n",
      "Model Metrics: | Accuracy = 0.6939 | Precision = 0.8431 | Recall = 0.5386 | F1-score = 0.6573 |\n",
      "Confusion Matrix: \n",
      "[[7228  986]\n",
      " [4539 5299]]\n",
      "\n",
      "The model is moderately good but could be improved.\n",
      "\n",
      "Features with correlation coefficient with target > than 0.3\n",
      "Columns that will be used for the training:\n",
      " ['shipping_mode_first_class', 'days_for_shipment_scheduled', 'shipping_mode_standard_class'] \n",
      "\n",
      "Test size 30%:\n",
      "Training set size: 126361 | Test set size: 54155\n",
      "Logistic Regression initialized.\n",
      "Model Metrics: | Accuracy = 0.6931 | Precision = 0.8515 | Recall = 0.535 | F1-score = 0.6571 |\n",
      "Confusion Matrix: \n",
      "[[21613  2777]\n",
      " [13841 15924]]\n",
      "\n",
      "The model is moderately good but could be improved.\n",
      "\n",
      "Test size 20%:\n",
      "Training set size: 144412 | Test set size: 36104\n",
      "Logistic Regression initialized.\n",
      "Model Metrics: | Accuracy = 0.6937 | Precision = 0.8489 | Recall = 0.5374 | F1-score = 0.6582 |\n",
      "Confusion Matrix: \n",
      "[[14403  1895]\n",
      " [ 9162 10644]]\n",
      "\n",
      "The model is moderately good but could be improved.\n",
      "\n",
      "Test size 10%:\n",
      "Training set size: 162464 | Test set size: 18052\n",
      "Logistic Regression initialized.\n",
      "Model Metrics: | Accuracy = 0.6939 | Precision = 0.8431 | Recall = 0.5386 | F1-score = 0.6573 |\n",
      "Confusion Matrix: \n",
      "[[7228  986]\n",
      " [4539 5299]]\n",
      "\n",
      "The model is moderately good but could be improved.\n",
      "\n",
      "Features with correlation coefficient with target > than 0.4\n",
      "Columns that will be used for the training:\n",
      " ['shipping_mode_standard_class'] \n",
      "\n",
      "Test size 30%:\n",
      "Training set size: 126361 | Test set size: 54155\n",
      "Logistic Regression initialized.\n",
      "Model Metrics: | Accuracy = 0.6888 | Precision = 0.7979 | Recall = 0.5809 | F1-score = 0.6723 |\n",
      "Confusion Matrix: \n",
      "[[20010  4380]\n",
      " [12474 17291]]\n",
      "\n",
      "The model is moderately good but could be improved.\n",
      "\n",
      "Test size 20%:\n",
      "Training set size: 144412 | Test set size: 36104\n",
      "Logistic Regression initialized.\n",
      "Model Metrics: | Accuracy = 0.6889 | Precision = 0.7964 | Recall = 0.5816 | F1-score = 0.6723 |\n",
      "Confusion Matrix: \n",
      "[[13354  2944]\n",
      " [ 8287 11519]]\n",
      "\n",
      "The model is moderately good but could be improved.\n",
      "\n",
      "Test size 10%:\n",
      "Training set size: 162464 | Test set size: 18052\n",
      "Logistic Regression initialized.\n",
      "Model Metrics: | Accuracy = 0.6897 | Precision = 0.7922 | Recall = 0.5838 | F1-score = 0.6722 |\n",
      "Confusion Matrix: \n",
      "[[6708 1506]\n",
      " [4095 5743]]\n",
      "\n",
      "The model is moderately good but could be improved.\n",
      "\n"
     ]
    }
   ],
   "source": [
    "# Evaluating different test_size and features\n",
    "results_df = cm.evaluate_different_correlations(dataframe, 'late_delivery_risk', model = model_to_test)"
   ]
  },
  {
   "cell_type": "code",
   "execution_count": 12,
   "metadata": {},
   "outputs": [
    {
     "data": {
      "application/vnd.microsoft.datawrangler.viewer.v0+json": {
       "columns": [
        {
         "name": "index",
         "rawType": "int64",
         "type": "integer"
        },
        {
         "name": "Correlation Coefficient ≥",
         "rawType": "float64",
         "type": "float"
        },
        {
         "name": "Test Size (%)",
         "rawType": "float64",
         "type": "float"
        },
        {
         "name": "Accuracy",
         "rawType": "float64",
         "type": "float"
        },
        {
         "name": "Precision",
         "rawType": "float64",
         "type": "float"
        },
        {
         "name": "Recall",
         "rawType": "float64",
         "type": "float"
        },
        {
         "name": "F1-score",
         "rawType": "float64",
         "type": "float"
        }
       ],
       "conversionMethod": "pd.DataFrame",
       "ref": "07d85792-ec38-4395-b61f-13093e00a535",
       "rows": [
        [
         "0",
         "1e-05",
         "0.3",
         "0.552155848952082",
         "0.5515737864441035",
         "0.9902570132706199",
         "0.7085081066788457"
        ],
        [
         "1",
         "1e-05",
         "0.2",
         "0.5674440505207179",
         "0.5846228435214739",
         "0.730586690901747",
         "0.6495051282626748"
        ],
        [
         "2",
         "1e-05",
         "0.1",
         "0.586527808553069",
         "0.613784509202454",
         "0.6508436674120757",
         "0.6317710902812037"
        ],
        [
         "3",
         "0.01",
         "0.3",
         "0.7071738528298402",
         "0.8573043522943322",
         "0.5605241054930288",
         "0.6778531670255556"
        ],
        [
         "4",
         "0.01",
         "0.2",
         "0.7085364502548194",
         "0.8550447487187333",
         "0.564374431990306",
         "0.6799476869734481"
        ],
        [
         "5",
         "0.01",
         "0.1",
         "0.707954797252382",
         "0.8491893545426736",
         "0.5643423460052857",
         "0.6780654616511969"
        ],
        [
         "6",
         "0.02",
         "0.3",
         "0.7075246976271813",
         "0.8574435318275154",
         "0.5611624391063329",
         "0.6783632856127526"
        ],
        [
         "7",
         "0.02",
         "0.2",
         "0.7090627077332151",
         "0.8552551176290865",
         "0.565333737251338",
         "0.6807100735607028"
        ],
        [
         "8",
         "0.02",
         "0.1",
         "0.707954797252382",
         "0.8491893545426736",
         "0.5643423460052857",
         "0.6780654616511969"
        ],
        [
         "9",
         "0.03",
         "0.3",
         "0.7080048010340689",
         "0.8576335486516969",
         "0.5620359482613808",
         "0.6790607050800673"
        ],
        [
         "10",
         "0.03",
         "0.2",
         "0.7090904054952359",
         "0.8552661727640724",
         "0.5653842270019186",
         "0.6807501747773489"
        ],
        [
         "11",
         "0.03",
         "0.1",
         "0.7086749390649235",
         "0.849488627690429",
         "0.5656637527952836",
         "0.6791140399048142"
        ],
        [
         "12",
         "0.04",
         "0.3",
         "0.7071738528298402",
         "0.8573043522943322",
         "0.5605241054930288",
         "0.6778531670255556"
        ],
        [
         "13",
         "0.04",
         "0.2",
         "0.7090904054952359",
         "0.8552661727640724",
         "0.5653842270019186",
         "0.6807501747773489"
        ],
        [
         "14",
         "0.04",
         "0.1",
         "0.7078440062042987",
         "0.8491432068543452",
         "0.5641390526529783",
         "0.6779039941370465"
        ],
        [
         "15",
         "0.08",
         "0.3",
         "0.6931400609362016",
         "0.8515052670980161",
         "0.5349907609608601",
         "0.6571204555771056"
        ],
        [
         "16",
         "0.08",
         "0.2",
         "0.6937458453356968",
         "0.8488715208549326",
         "0.5374129051802484",
         "0.6581542742309476"
        ],
        [
         "17",
         "0.08",
         "0.1",
         "0.6939397296698426",
         "0.8431185361972952",
         "0.5386257369384021",
         "0.6573218383675494"
        ],
        [
         "18",
         "0.2",
         "0.3",
         "0.6931400609362016",
         "0.8515052670980161",
         "0.5349907609608601",
         "0.6571204555771056"
        ],
        [
         "19",
         "0.2",
         "0.2",
         "0.6937458453356968",
         "0.8488715208549326",
         "0.5374129051802484",
         "0.6581542742309476"
        ],
        [
         "20",
         "0.2",
         "0.1",
         "0.6939397296698426",
         "0.8431185361972952",
         "0.5386257369384021",
         "0.6573218383675494"
        ],
        [
         "21",
         "0.3",
         "0.3",
         "0.6931400609362016",
         "0.8515052670980161",
         "0.5349907609608601",
         "0.6571204555771056"
        ],
        [
         "22",
         "0.3",
         "0.2",
         "0.6937458453356968",
         "0.8488715208549326",
         "0.5374129051802484",
         "0.6581542742309476"
        ],
        [
         "23",
         "0.3",
         "0.1",
         "0.6939397296698426",
         "0.8431185361972952",
         "0.5386257369384021",
         "0.6573218383675494"
        ],
        [
         "24",
         "0.4",
         "0.3",
         "0.6887821992429138",
         "0.7978865765308477",
         "0.5809171846128003",
         "0.6723306633486275"
        ],
        [
         "25",
         "0.4",
         "0.2",
         "0.6889264347440727",
         "0.7964461038512065",
         "0.5815914369383015",
         "0.6722693979981907"
        ],
        [
         "26",
         "0.4",
         "0.1",
         "0.6897296698426767",
         "0.7922472065112429",
         "0.5837568611506404",
         "0.6722069409492597"
        ]
       ],
       "shape": {
        "columns": 6,
        "rows": 27
       }
      },
      "text/html": [
       "<div>\n",
       "<style scoped>\n",
       "    .dataframe tbody tr th:only-of-type {\n",
       "        vertical-align: middle;\n",
       "    }\n",
       "\n",
       "    .dataframe tbody tr th {\n",
       "        vertical-align: top;\n",
       "    }\n",
       "\n",
       "    .dataframe thead th {\n",
       "        text-align: right;\n",
       "    }\n",
       "</style>\n",
       "<table border=\"1\" class=\"dataframe\">\n",
       "  <thead>\n",
       "    <tr style=\"text-align: right;\">\n",
       "      <th></th>\n",
       "      <th>Correlation Coefficient ≥</th>\n",
       "      <th>Test Size (%)</th>\n",
       "      <th>Accuracy</th>\n",
       "      <th>Precision</th>\n",
       "      <th>Recall</th>\n",
       "      <th>F1-score</th>\n",
       "    </tr>\n",
       "  </thead>\n",
       "  <tbody>\n",
       "    <tr>\n",
       "      <th>0</th>\n",
       "      <td>0.00001</td>\n",
       "      <td>0.3</td>\n",
       "      <td>0.552156</td>\n",
       "      <td>0.551574</td>\n",
       "      <td>0.990257</td>\n",
       "      <td>0.708508</td>\n",
       "    </tr>\n",
       "    <tr>\n",
       "      <th>1</th>\n",
       "      <td>0.00001</td>\n",
       "      <td>0.2</td>\n",
       "      <td>0.567444</td>\n",
       "      <td>0.584623</td>\n",
       "      <td>0.730587</td>\n",
       "      <td>0.649505</td>\n",
       "    </tr>\n",
       "    <tr>\n",
       "      <th>2</th>\n",
       "      <td>0.00001</td>\n",
       "      <td>0.1</td>\n",
       "      <td>0.586528</td>\n",
       "      <td>0.613785</td>\n",
       "      <td>0.650844</td>\n",
       "      <td>0.631771</td>\n",
       "    </tr>\n",
       "    <tr>\n",
       "      <th>3</th>\n",
       "      <td>0.01000</td>\n",
       "      <td>0.3</td>\n",
       "      <td>0.707174</td>\n",
       "      <td>0.857304</td>\n",
       "      <td>0.560524</td>\n",
       "      <td>0.677853</td>\n",
       "    </tr>\n",
       "    <tr>\n",
       "      <th>4</th>\n",
       "      <td>0.01000</td>\n",
       "      <td>0.2</td>\n",
       "      <td>0.708536</td>\n",
       "      <td>0.855045</td>\n",
       "      <td>0.564374</td>\n",
       "      <td>0.679948</td>\n",
       "    </tr>\n",
       "    <tr>\n",
       "      <th>5</th>\n",
       "      <td>0.01000</td>\n",
       "      <td>0.1</td>\n",
       "      <td>0.707955</td>\n",
       "      <td>0.849189</td>\n",
       "      <td>0.564342</td>\n",
       "      <td>0.678065</td>\n",
       "    </tr>\n",
       "    <tr>\n",
       "      <th>6</th>\n",
       "      <td>0.02000</td>\n",
       "      <td>0.3</td>\n",
       "      <td>0.707525</td>\n",
       "      <td>0.857444</td>\n",
       "      <td>0.561162</td>\n",
       "      <td>0.678363</td>\n",
       "    </tr>\n",
       "    <tr>\n",
       "      <th>7</th>\n",
       "      <td>0.02000</td>\n",
       "      <td>0.2</td>\n",
       "      <td>0.709063</td>\n",
       "      <td>0.855255</td>\n",
       "      <td>0.565334</td>\n",
       "      <td>0.680710</td>\n",
       "    </tr>\n",
       "    <tr>\n",
       "      <th>8</th>\n",
       "      <td>0.02000</td>\n",
       "      <td>0.1</td>\n",
       "      <td>0.707955</td>\n",
       "      <td>0.849189</td>\n",
       "      <td>0.564342</td>\n",
       "      <td>0.678065</td>\n",
       "    </tr>\n",
       "    <tr>\n",
       "      <th>9</th>\n",
       "      <td>0.03000</td>\n",
       "      <td>0.3</td>\n",
       "      <td>0.708005</td>\n",
       "      <td>0.857634</td>\n",
       "      <td>0.562036</td>\n",
       "      <td>0.679061</td>\n",
       "    </tr>\n",
       "    <tr>\n",
       "      <th>10</th>\n",
       "      <td>0.03000</td>\n",
       "      <td>0.2</td>\n",
       "      <td>0.709090</td>\n",
       "      <td>0.855266</td>\n",
       "      <td>0.565384</td>\n",
       "      <td>0.680750</td>\n",
       "    </tr>\n",
       "    <tr>\n",
       "      <th>11</th>\n",
       "      <td>0.03000</td>\n",
       "      <td>0.1</td>\n",
       "      <td>0.708675</td>\n",
       "      <td>0.849489</td>\n",
       "      <td>0.565664</td>\n",
       "      <td>0.679114</td>\n",
       "    </tr>\n",
       "    <tr>\n",
       "      <th>12</th>\n",
       "      <td>0.04000</td>\n",
       "      <td>0.3</td>\n",
       "      <td>0.707174</td>\n",
       "      <td>0.857304</td>\n",
       "      <td>0.560524</td>\n",
       "      <td>0.677853</td>\n",
       "    </tr>\n",
       "    <tr>\n",
       "      <th>13</th>\n",
       "      <td>0.04000</td>\n",
       "      <td>0.2</td>\n",
       "      <td>0.709090</td>\n",
       "      <td>0.855266</td>\n",
       "      <td>0.565384</td>\n",
       "      <td>0.680750</td>\n",
       "    </tr>\n",
       "    <tr>\n",
       "      <th>14</th>\n",
       "      <td>0.04000</td>\n",
       "      <td>0.1</td>\n",
       "      <td>0.707844</td>\n",
       "      <td>0.849143</td>\n",
       "      <td>0.564139</td>\n",
       "      <td>0.677904</td>\n",
       "    </tr>\n",
       "    <tr>\n",
       "      <th>15</th>\n",
       "      <td>0.08000</td>\n",
       "      <td>0.3</td>\n",
       "      <td>0.693140</td>\n",
       "      <td>0.851505</td>\n",
       "      <td>0.534991</td>\n",
       "      <td>0.657120</td>\n",
       "    </tr>\n",
       "    <tr>\n",
       "      <th>16</th>\n",
       "      <td>0.08000</td>\n",
       "      <td>0.2</td>\n",
       "      <td>0.693746</td>\n",
       "      <td>0.848872</td>\n",
       "      <td>0.537413</td>\n",
       "      <td>0.658154</td>\n",
       "    </tr>\n",
       "    <tr>\n",
       "      <th>17</th>\n",
       "      <td>0.08000</td>\n",
       "      <td>0.1</td>\n",
       "      <td>0.693940</td>\n",
       "      <td>0.843119</td>\n",
       "      <td>0.538626</td>\n",
       "      <td>0.657322</td>\n",
       "    </tr>\n",
       "    <tr>\n",
       "      <th>18</th>\n",
       "      <td>0.20000</td>\n",
       "      <td>0.3</td>\n",
       "      <td>0.693140</td>\n",
       "      <td>0.851505</td>\n",
       "      <td>0.534991</td>\n",
       "      <td>0.657120</td>\n",
       "    </tr>\n",
       "    <tr>\n",
       "      <th>19</th>\n",
       "      <td>0.20000</td>\n",
       "      <td>0.2</td>\n",
       "      <td>0.693746</td>\n",
       "      <td>0.848872</td>\n",
       "      <td>0.537413</td>\n",
       "      <td>0.658154</td>\n",
       "    </tr>\n",
       "    <tr>\n",
       "      <th>20</th>\n",
       "      <td>0.20000</td>\n",
       "      <td>0.1</td>\n",
       "      <td>0.693940</td>\n",
       "      <td>0.843119</td>\n",
       "      <td>0.538626</td>\n",
       "      <td>0.657322</td>\n",
       "    </tr>\n",
       "    <tr>\n",
       "      <th>21</th>\n",
       "      <td>0.30000</td>\n",
       "      <td>0.3</td>\n",
       "      <td>0.693140</td>\n",
       "      <td>0.851505</td>\n",
       "      <td>0.534991</td>\n",
       "      <td>0.657120</td>\n",
       "    </tr>\n",
       "    <tr>\n",
       "      <th>22</th>\n",
       "      <td>0.30000</td>\n",
       "      <td>0.2</td>\n",
       "      <td>0.693746</td>\n",
       "      <td>0.848872</td>\n",
       "      <td>0.537413</td>\n",
       "      <td>0.658154</td>\n",
       "    </tr>\n",
       "    <tr>\n",
       "      <th>23</th>\n",
       "      <td>0.30000</td>\n",
       "      <td>0.1</td>\n",
       "      <td>0.693940</td>\n",
       "      <td>0.843119</td>\n",
       "      <td>0.538626</td>\n",
       "      <td>0.657322</td>\n",
       "    </tr>\n",
       "    <tr>\n",
       "      <th>24</th>\n",
       "      <td>0.40000</td>\n",
       "      <td>0.3</td>\n",
       "      <td>0.688782</td>\n",
       "      <td>0.797887</td>\n",
       "      <td>0.580917</td>\n",
       "      <td>0.672331</td>\n",
       "    </tr>\n",
       "    <tr>\n",
       "      <th>25</th>\n",
       "      <td>0.40000</td>\n",
       "      <td>0.2</td>\n",
       "      <td>0.688926</td>\n",
       "      <td>0.796446</td>\n",
       "      <td>0.581591</td>\n",
       "      <td>0.672269</td>\n",
       "    </tr>\n",
       "    <tr>\n",
       "      <th>26</th>\n",
       "      <td>0.40000</td>\n",
       "      <td>0.1</td>\n",
       "      <td>0.689730</td>\n",
       "      <td>0.792247</td>\n",
       "      <td>0.583757</td>\n",
       "      <td>0.672207</td>\n",
       "    </tr>\n",
       "  </tbody>\n",
       "</table>\n",
       "</div>"
      ],
      "text/plain": [
       "    Correlation Coefficient ≥  Test Size (%)  Accuracy  Precision    Recall  \\\n",
       "0                     0.00001            0.3  0.552156   0.551574  0.990257   \n",
       "1                     0.00001            0.2  0.567444   0.584623  0.730587   \n",
       "2                     0.00001            0.1  0.586528   0.613785  0.650844   \n",
       "3                     0.01000            0.3  0.707174   0.857304  0.560524   \n",
       "4                     0.01000            0.2  0.708536   0.855045  0.564374   \n",
       "5                     0.01000            0.1  0.707955   0.849189  0.564342   \n",
       "6                     0.02000            0.3  0.707525   0.857444  0.561162   \n",
       "7                     0.02000            0.2  0.709063   0.855255  0.565334   \n",
       "8                     0.02000            0.1  0.707955   0.849189  0.564342   \n",
       "9                     0.03000            0.3  0.708005   0.857634  0.562036   \n",
       "10                    0.03000            0.2  0.709090   0.855266  0.565384   \n",
       "11                    0.03000            0.1  0.708675   0.849489  0.565664   \n",
       "12                    0.04000            0.3  0.707174   0.857304  0.560524   \n",
       "13                    0.04000            0.2  0.709090   0.855266  0.565384   \n",
       "14                    0.04000            0.1  0.707844   0.849143  0.564139   \n",
       "15                    0.08000            0.3  0.693140   0.851505  0.534991   \n",
       "16                    0.08000            0.2  0.693746   0.848872  0.537413   \n",
       "17                    0.08000            0.1  0.693940   0.843119  0.538626   \n",
       "18                    0.20000            0.3  0.693140   0.851505  0.534991   \n",
       "19                    0.20000            0.2  0.693746   0.848872  0.537413   \n",
       "20                    0.20000            0.1  0.693940   0.843119  0.538626   \n",
       "21                    0.30000            0.3  0.693140   0.851505  0.534991   \n",
       "22                    0.30000            0.2  0.693746   0.848872  0.537413   \n",
       "23                    0.30000            0.1  0.693940   0.843119  0.538626   \n",
       "24                    0.40000            0.3  0.688782   0.797887  0.580917   \n",
       "25                    0.40000            0.2  0.688926   0.796446  0.581591   \n",
       "26                    0.40000            0.1  0.689730   0.792247  0.583757   \n",
       "\n",
       "    F1-score  \n",
       "0   0.708508  \n",
       "1   0.649505  \n",
       "2   0.631771  \n",
       "3   0.677853  \n",
       "4   0.679948  \n",
       "5   0.678065  \n",
       "6   0.678363  \n",
       "7   0.680710  \n",
       "8   0.678065  \n",
       "9   0.679061  \n",
       "10  0.680750  \n",
       "11  0.679114  \n",
       "12  0.677853  \n",
       "13  0.680750  \n",
       "14  0.677904  \n",
       "15  0.657120  \n",
       "16  0.658154  \n",
       "17  0.657322  \n",
       "18  0.657120  \n",
       "19  0.658154  \n",
       "20  0.657322  \n",
       "21  0.657120  \n",
       "22  0.658154  \n",
       "23  0.657322  \n",
       "24  0.672331  \n",
       "25  0.672269  \n",
       "26  0.672207  "
      ]
     },
     "execution_count": 12,
     "metadata": {},
     "output_type": "execute_result"
    }
   ],
   "source": [
    "# A resume of metrics for test_size and features\n",
    "results_df.head(55)"
   ]
  },
  {
   "cell_type": "markdown",
   "metadata": {},
   "source": [
    "According to these results, increasing the correlation coefficient threshold for feature selection improves the model's accuracy. This outcome aligns with the behavior of the model, which is sensitive to irrelevant features. By filtering out less relevant features, the model focuses on the most impactful variables, leading to better performance. Features with a correlation coefficient lower than 0.04 will be removed."
   ]
  },
  {
   "cell_type": "code",
   "execution_count": 13,
   "metadata": {},
   "outputs": [
    {
     "name": "stdout",
     "output_type": "stream",
     "text": [
      "Features with correlation coefficient with target > than 0.04\n",
      "Columns that will be used for the training:\n",
      " ['shipping_mode_first_class', 'shipping_mode_second_class', 'hour_order', 'shipping_mode_same_day', 'type_transfer', 'days_for_shipment_scheduled', 'shipping_mode_standard_class'] \n",
      "\n"
     ]
    }
   ],
   "source": [
    "# Selecting features with correlation coefficient > 0.04\n",
    "correlated_columns = cm.selecting_features(dataframe, 'late_delivery_risk', corr_coef=0.04)"
   ]
  },
  {
   "cell_type": "code",
   "execution_count": 14,
   "metadata": {},
   "outputs": [
    {
     "name": "stdout",
     "output_type": "stream",
     "text": [
      "Test size 20%:\n",
      "Training set size: 144412 | Test set size: 36104\n"
     ]
    }
   ],
   "source": [
    "# Splitting the data\n",
    "X_train, X_test, y_train, y_test = cm.select_training_set(dataframe, 'late_delivery_risk', correlated_columns, test_size=0.2)"
   ]
  },
  {
   "cell_type": "code",
   "execution_count": 15,
   "metadata": {},
   "outputs": [
    {
     "name": "stdout",
     "output_type": "stream",
     "text": [
      "Logistic Regression initialized.\n",
      "Model Metrics: | Accuracy = 0.7091 | Precision = 0.8553 | Recall = 0.5654 | F1-score = 0.6808 |\n",
      "Confusion Matrix: \n",
      "[[14403  1895]\n",
      " [ 8608 11198]]\n",
      "\n",
      "The model is moderately good but could be improved.\n",
      "\n"
     ]
    }
   ],
   "source": [
    "# Train the model \n",
    "results_list, model_tree = cm.train_model(X_train, X_test, y_train, y_test, model_name = model_to_test)"
   ]
  },
  {
   "cell_type": "code",
   "execution_count": 16,
   "metadata": {},
   "outputs": [
    {
     "name": "stdout",
     "output_type": "stream",
     "text": [
      "Cross-Validation Results:\n",
      "Number of folds: 5\n",
      "Average Training Accuracy:  0.7096\n",
      "Average Test Accuracy:  0.7095\n",
      "The model performs moderately well, but there's room for improvement in its generalization.\n",
      "\n"
     ]
    },
    {
     "data": {
      "application/vnd.microsoft.datawrangler.viewer.v0+json": {
       "columns": [
        {
         "name": "index",
         "rawType": "int64",
         "type": "integer"
        },
        {
         "name": "Fold",
         "rawType": "int64",
         "type": "integer"
        },
        {
         "name": "Train Accuracy",
         "rawType": "float64",
         "type": "float"
        },
        {
         "name": "Test Accuracy",
         "rawType": "float64",
         "type": "float"
        },
        {
         "name": "Train F1",
         "rawType": "float64",
         "type": "float"
        },
        {
         "name": "Test F1",
         "rawType": "float64",
         "type": "float"
        }
       ],
       "conversionMethod": "pd.DataFrame",
       "ref": "fe3aee5d-ba2a-409b-bb12-414a455077e0",
       "rows": [
        [
         "0",
         "1",
         "0.7113",
         "0.7091",
         "0.7067",
         "0.7043"
        ],
        [
         "1",
         "2",
         "0.7099",
         "0.7072",
         "0.7052",
         "0.7021"
        ],
        [
         "2",
         "3",
         "0.7099",
         "0.7071",
         "0.7051",
         "0.7024"
        ],
        [
         "3",
         "4",
         "0.71",
         "0.7141",
         "0.7054",
         "0.7093"
        ],
        [
         "4",
         "5",
         "0.7071",
         "0.7102",
         "0.702",
         "0.7057"
        ]
       ],
       "shape": {
        "columns": 5,
        "rows": 5
       }
      },
      "text/html": [
       "<div>\n",
       "<style scoped>\n",
       "    .dataframe tbody tr th:only-of-type {\n",
       "        vertical-align: middle;\n",
       "    }\n",
       "\n",
       "    .dataframe tbody tr th {\n",
       "        vertical-align: top;\n",
       "    }\n",
       "\n",
       "    .dataframe thead th {\n",
       "        text-align: right;\n",
       "    }\n",
       "</style>\n",
       "<table border=\"1\" class=\"dataframe\">\n",
       "  <thead>\n",
       "    <tr style=\"text-align: right;\">\n",
       "      <th></th>\n",
       "      <th>Fold</th>\n",
       "      <th>Train Accuracy</th>\n",
       "      <th>Test Accuracy</th>\n",
       "      <th>Train F1</th>\n",
       "      <th>Test F1</th>\n",
       "    </tr>\n",
       "  </thead>\n",
       "  <tbody>\n",
       "    <tr>\n",
       "      <th>0</th>\n",
       "      <td>1</td>\n",
       "      <td>0.7113</td>\n",
       "      <td>0.7091</td>\n",
       "      <td>0.7067</td>\n",
       "      <td>0.7043</td>\n",
       "    </tr>\n",
       "    <tr>\n",
       "      <th>1</th>\n",
       "      <td>2</td>\n",
       "      <td>0.7099</td>\n",
       "      <td>0.7072</td>\n",
       "      <td>0.7052</td>\n",
       "      <td>0.7021</td>\n",
       "    </tr>\n",
       "    <tr>\n",
       "      <th>2</th>\n",
       "      <td>3</td>\n",
       "      <td>0.7099</td>\n",
       "      <td>0.7071</td>\n",
       "      <td>0.7051</td>\n",
       "      <td>0.7024</td>\n",
       "    </tr>\n",
       "    <tr>\n",
       "      <th>3</th>\n",
       "      <td>4</td>\n",
       "      <td>0.7100</td>\n",
       "      <td>0.7141</td>\n",
       "      <td>0.7054</td>\n",
       "      <td>0.7093</td>\n",
       "    </tr>\n",
       "    <tr>\n",
       "      <th>4</th>\n",
       "      <td>5</td>\n",
       "      <td>0.7071</td>\n",
       "      <td>0.7102</td>\n",
       "      <td>0.7020</td>\n",
       "      <td>0.7057</td>\n",
       "    </tr>\n",
       "  </tbody>\n",
       "</table>\n",
       "</div>"
      ],
      "text/plain": [
       "   Fold  Train Accuracy  Test Accuracy  Train F1  Test F1\n",
       "0     1          0.7113         0.7091    0.7067   0.7043\n",
       "1     2          0.7099         0.7072    0.7052   0.7021\n",
       "2     3          0.7099         0.7071    0.7051   0.7024\n",
       "3     4          0.7100         0.7141    0.7054   0.7093\n",
       "4     5          0.7071         0.7102    0.7020   0.7057"
      ]
     },
     "execution_count": 16,
     "metadata": {},
     "output_type": "execute_result"
    }
   ],
   "source": [
    "# Cross validation\n",
    "results, average = cm.cross_validate_model(dataframe, correlated_columns, 'late_delivery_risk', model = model_to_test)\n",
    "results"
   ]
  },
  {
   "cell_type": "markdown",
   "metadata": {},
   "source": [
    "Based on the 5-fold cross-validation results, the model demonstrates high stability. The average train accuracy is 70.96%, and the average test accuracy is 70.95%, indicating consistent performance across different data splits. This stability suggests that the model generalizes well to unseen data and is not overfitting."
   ]
  },
  {
   "cell_type": "markdown",
   "metadata": {},
   "source": [
    "🚨The 2 below above are commented out as the GridSearch process is time-consuming. Below, you can find an image showcasing the results.\n",
    "\n",
    "![Hyperparameters Tunning](./images/hyperparameter_tunning_logistic_regression.png)\n",
    "![Hyperparameters Tunning based on correlation](./images/hyperparameter_tunning_logistic_regression_based_on_correlation_coefficient.png)"
   ]
  },
  {
   "cell_type": "code",
   "execution_count": 17,
   "metadata": {},
   "outputs": [],
   "source": [
    "# Hyperparameter tuning\n",
    "#results_df = cm.perform_grid_search(dataframe, 'late_delivery_risk', model = model_to_test)"
   ]
  },
  {
   "cell_type": "code",
   "execution_count": 18,
   "metadata": {},
   "outputs": [],
   "source": [
    "#results_df"
   ]
  },
  {
   "cell_type": "code",
   "execution_count": 19,
   "metadata": {},
   "outputs": [
    {
     "name": "stdout",
     "output_type": "stream",
     "text": [
      "Features with correlation coefficient with target > than 0.04\n",
      "Columns that will be used for the training:\n",
      " ['shipping_mode_first_class', 'shipping_mode_second_class', 'hour_order', 'shipping_mode_same_day', 'type_transfer', 'days_for_shipment_scheduled', 'shipping_mode_standard_class'] \n",
      "\n",
      "Test size 20%:\n",
      "Training set size: 144412 | Test set size: 36104\n",
      "Model Metrics: | Accuracy = 0.7116 | Precision = 0.852 | Recall = 0.5741 | F1-score = 0.686 |\n",
      "Confusion Matrix: \n",
      "[[14323  1975]\n",
      " [ 8436 11370]]\n",
      "\n",
      "The model is moderately good but could be improved.\n",
      "\n"
     ]
    }
   ],
   "source": [
    "#Best parameters for LogisticRegression\n",
    "best_parameters = {'C': 0.001, 'class_weight': None, 'fit_intercept': False, 'max_iter': 100, 'penalty': 'l2', 'solver': 'lbfgs', 'tol': 0.01}\n",
    "best_correlation = 0.04\n",
    "best_test_size = 0.2\n",
    "final_model = model_to_test(**best_parameters)\n",
    "\n",
    "correlated_columns = cm.selecting_features(dataframe, 'late_delivery_risk', corr_coef=best_correlation)\n",
    "X_train, X_test, y_train, y_test = cm.select_training_set(dataframe, 'late_delivery_risk', correlated_columns, test_size=best_test_size)\n",
    "results_list, final_model = cm.train_model(X_train, X_test, y_train, y_test, model_name=model_to_test, model_tree=final_model)"
   ]
  },
  {
   "cell_type": "code",
   "execution_count": 20,
   "metadata": {},
   "outputs": [
    {
     "name": "stdout",
     "output_type": "stream",
     "text": [
      "Selected Features: Index(['shipping_mode_first_class', 'shipping_mode_second_class',\n",
      "       'shipping_mode_standard_class'],\n",
      "      dtype='object')\n",
      " Model Metrics: | Accuracy = 0.6937 | Precision = 0.7416 | Recall = 0.6937 | F1 Score = 0.6873\n",
      " Confusion Matrix:\n",
      " [[14403  1895]\n",
      " [ 9162 10644]]\n",
      "\n",
      "The model is moderately good, but there is room for improvement.\n",
      "\n",
      "Selected Features: Index(['shipping_mode_first_class', 'shipping_mode_second_class',\n",
      "       'shipping_mode_same_day', 'type_transfer',\n",
      "       'shipping_mode_standard_class'],\n",
      "      dtype='object')\n",
      " Model Metrics: | Accuracy = 0.6937 | Precision = 0.7416 | Recall = 0.6937 | F1 Score = 0.6873\n",
      " Confusion Matrix:\n",
      " [[14403  1895]\n",
      " [ 9162 10644]]\n",
      "\n",
      "The model is moderately good, but there is room for improvement.\n",
      "\n",
      "==================================================\n",
      "Best accuracy: 0.7116385996011523\n",
      "Best correlated columns: ['shipping_mode_first_class', 'shipping_mode_second_class', 'hour_order', 'shipping_mode_same_day', 'type_transfer', 'days_for_shipment_scheduled', 'shipping_mode_standard_class']\n"
     ]
    }
   ],
   "source": [
    "# Applying feature selection using Recursive Feature Elimination (RFE) with different numbers of features\n",
    "# If accuracy improves, update the final model\n",
    "\n",
    "# Initialize the best model and accuracy\n",
    "best_accuracy = final_model.score(X_test, y_test)\n",
    "best_model = final_model\n",
    "best_correlated_columns = correlated_columns\n",
    "\n",
    "for f in [3, 5]:\n",
    "    correlated_columns_f, final_model_f, accuracy_f = cm.feature_selection(final_model, X_train, X_test, y_train, y_test, features = f)\n",
    "\n",
    "    # Update best model if accuracy improves\n",
    "    if accuracy_f > best_accuracy:\n",
    "        best_accuracy = accuracy_f\n",
    "        best_model = final_model_f\n",
    "        best_correlated_columns = correlated_columns_f\n",
    "\n",
    "# Save the best model and correlated columns\n",
    "final_model = best_model\n",
    "correlated_columns = best_correlated_columns\n",
    "\n",
    "print(\"=\"*50)\n",
    "print(f\"Best accuracy: {best_accuracy}\")\n",
    "print(f\"Best correlated columns: {correlated_columns}\")\n"
   ]
  },
  {
   "cell_type": "code",
   "execution_count": 21,
   "metadata": {},
   "outputs": [
    {
     "name": "stdout",
     "output_type": "stream",
     "text": [
      "Cross-Validation Results:\n",
      "Number of folds: 5\n",
      "Average Training Accuracy:  0.7139\n",
      "Average Test Accuracy:  0.7138\n",
      "The model performs moderately well, but there's room for improvement in its generalization.\n",
      "\n"
     ]
    },
    {
     "data": {
      "application/vnd.microsoft.datawrangler.viewer.v0+json": {
       "columns": [
        {
         "name": "index",
         "rawType": "int64",
         "type": "integer"
        },
        {
         "name": "Fold",
         "rawType": "int64",
         "type": "integer"
        },
        {
         "name": "Train Accuracy",
         "rawType": "float64",
         "type": "float"
        },
        {
         "name": "Test Accuracy",
         "rawType": "float64",
         "type": "float"
        },
        {
         "name": "Train F1",
         "rawType": "float64",
         "type": "float"
        },
        {
         "name": "Test F1",
         "rawType": "float64",
         "type": "float"
        }
       ],
       "conversionMethod": "pd.DataFrame",
       "ref": "06d4473b-91e4-450c-9ffe-5c911a7f9675",
       "rows": [
        [
         "0",
         "1",
         "0.7141",
         "0.7116",
         "0.71",
         "0.7074"
        ],
        [
         "1",
         "2",
         "0.7139",
         "0.7123",
         "0.7099",
         "0.7079"
        ],
        [
         "2",
         "3",
         "0.7142",
         "0.7112",
         "0.7101",
         "0.7072"
        ],
        [
         "3",
         "4",
         "0.7133",
         "0.7167",
         "0.7093",
         "0.7125"
        ],
        [
         "4",
         "5",
         "0.7141",
         "0.7173",
         "0.7098",
         "0.7135"
        ]
       ],
       "shape": {
        "columns": 5,
        "rows": 5
       }
      },
      "text/html": [
       "<div>\n",
       "<style scoped>\n",
       "    .dataframe tbody tr th:only-of-type {\n",
       "        vertical-align: middle;\n",
       "    }\n",
       "\n",
       "    .dataframe tbody tr th {\n",
       "        vertical-align: top;\n",
       "    }\n",
       "\n",
       "    .dataframe thead th {\n",
       "        text-align: right;\n",
       "    }\n",
       "</style>\n",
       "<table border=\"1\" class=\"dataframe\">\n",
       "  <thead>\n",
       "    <tr style=\"text-align: right;\">\n",
       "      <th></th>\n",
       "      <th>Fold</th>\n",
       "      <th>Train Accuracy</th>\n",
       "      <th>Test Accuracy</th>\n",
       "      <th>Train F1</th>\n",
       "      <th>Test F1</th>\n",
       "    </tr>\n",
       "  </thead>\n",
       "  <tbody>\n",
       "    <tr>\n",
       "      <th>0</th>\n",
       "      <td>1</td>\n",
       "      <td>0.7141</td>\n",
       "      <td>0.7116</td>\n",
       "      <td>0.7100</td>\n",
       "      <td>0.7074</td>\n",
       "    </tr>\n",
       "    <tr>\n",
       "      <th>1</th>\n",
       "      <td>2</td>\n",
       "      <td>0.7139</td>\n",
       "      <td>0.7123</td>\n",
       "      <td>0.7099</td>\n",
       "      <td>0.7079</td>\n",
       "    </tr>\n",
       "    <tr>\n",
       "      <th>2</th>\n",
       "      <td>3</td>\n",
       "      <td>0.7142</td>\n",
       "      <td>0.7112</td>\n",
       "      <td>0.7101</td>\n",
       "      <td>0.7072</td>\n",
       "    </tr>\n",
       "    <tr>\n",
       "      <th>3</th>\n",
       "      <td>4</td>\n",
       "      <td>0.7133</td>\n",
       "      <td>0.7167</td>\n",
       "      <td>0.7093</td>\n",
       "      <td>0.7125</td>\n",
       "    </tr>\n",
       "    <tr>\n",
       "      <th>4</th>\n",
       "      <td>5</td>\n",
       "      <td>0.7141</td>\n",
       "      <td>0.7173</td>\n",
       "      <td>0.7098</td>\n",
       "      <td>0.7135</td>\n",
       "    </tr>\n",
       "  </tbody>\n",
       "</table>\n",
       "</div>"
      ],
      "text/plain": [
       "   Fold  Train Accuracy  Test Accuracy  Train F1  Test F1\n",
       "0     1          0.7141         0.7116    0.7100   0.7074\n",
       "1     2          0.7139         0.7123    0.7099   0.7079\n",
       "2     3          0.7142         0.7112    0.7101   0.7072\n",
       "3     4          0.7133         0.7167    0.7093   0.7125\n",
       "4     5          0.7141         0.7173    0.7098   0.7135"
      ]
     },
     "execution_count": 21,
     "metadata": {},
     "output_type": "execute_result"
    }
   ],
   "source": [
    "# Cross validation\n",
    "results, average = cm.cross_validate_model(dataframe, correlated_columns, 'late_delivery_risk', model = final_model, trained_model = True)\n",
    "results"
   ]
  },
  {
   "cell_type": "markdown",
   "metadata": {},
   "source": [
    "### Results\n",
    "\n",
    "The Logistic Regression model achieved the following performance metrics:\n",
    "\n",
    "- **Cross-Validation Results**:\n",
    "    - Average Train Accuracy: **71.39%**\n",
    "    - Average Test Accuracy: **71.38%**\n",
    "    - These results indicate that the model generalizes well across different data splits, with consistent performance on both training and test sets.\n",
    "\n",
    "- **Best Model Performance**:\n",
    "    - Best Accuracy: **71.16%**\n",
    "    - Best Correlation Coefficient Threshold: **0.04**\n",
    "    - Features: `shipping_mode_first_class`,`shipping_mode_second_class`,`hour_order`,`shipping_mode_same_day`,`type_transfer`,`days_for_shipment_scheduled`, `shipping_mode_standard_class`\n",
    "    - Best Test Size: **20%**\n",
    "    - Best Parameters: \n",
    "        - `C`: 0.001\n",
    "        - `class_weight`: None\n",
    "        - `fit_intercept`: False\n",
    "        - `max_iter`: 100\n",
    "        - `penalty`: l2\n",
    "        - `solver`: lbfgs\n",
    "        - `tol`: 0.01\n",
    "\n",
    "- **Confusion Matrix**:\n",
    "    The confusion matrix for the best model is as follows:\n",
    "    ```\n",
    "    [[14323,  1975],\n",
    "     [ 8436, 11370]]\n",
    "    ```\n",
    "    - True Positives: 11,370\n",
    "    - True Negatives: 14,323\n",
    "    - False Positives: 1,975\n",
    "    - False Negatives: 8,436\n",
    "\n",
    "- **Evaluation Metrics**:\n",
    "    - Precision: **85.20%**\n",
    "    - Recall: **57.41%**\n",
    "    - F1-Score: **68.60%**\n",
    "\n",
    "- **Comments on Results**:\n",
    "\n",
    "The model demonstrates a good balance between precision and recall, with a relatively high precision indicating that most predicted positive cases are correct. However, the recall is slightly lower, suggesting that some true positive cases are missed. The F1-score reflects this trade-off, providing a harmonic mean of precision and recall.\n",
    "\n",
    "The cross-validation results confirm the model's stability and robustness, as the train and test accuracies are closely aligned. The selected features and hyperparameters contribute to the model's performance, with the correlation coefficient threshold of 0.04 effectively filtering out less relevant features.\n",
    "\n",
    "Overall, the model performs well in predicting `late_delivery_risk`, but there is room for improvement in recall, which could be addressed by exploring alternative feature selection methods (that are explored bellow) or hyperparameter tuning strategies."
   ]
  },
  {
   "cell_type": "markdown",
   "metadata": {},
   "source": [
    "## Features transformation"
   ]
  },
  {
   "cell_type": "markdown",
   "metadata": {},
   "source": [
    "### PCA"
   ]
  },
  {
   "cell_type": "code",
   "execution_count": 22,
   "metadata": {},
   "outputs": [
    {
     "name": "stdout",
     "output_type": "stream",
     "text": [
      "Features with correlation coefficient with target > than 0.04\n",
      "Columns that will be used for the training:\n",
      " ['shipping_mode_first_class', 'shipping_mode_second_class', 'hour_order', 'shipping_mode_same_day', 'type_transfer', 'days_for_shipment_scheduled', 'shipping_mode_standard_class'] \n",
      "\n"
     ]
    }
   ],
   "source": [
    "# Selecting features \n",
    "correlated_columns_pca = cm.selecting_features(dataframe, 'late_delivery_risk', corr_coef=0.04)"
   ]
  },
  {
   "cell_type": "code",
   "execution_count": 23,
   "metadata": {},
   "outputs": [
    {
     "name": "stdout",
     "output_type": "stream",
     "text": [
      "Applying transformation: pca...\n",
      "Test size 20%:\n",
      "Training set size: 144412 | Test set size: 36104\n"
     ]
    }
   ],
   "source": [
    "# Splitting the data\n",
    "X_train_pca, X_test_pca, y_train_pca, y_test_pca = cm.select_training_set(dataframe, 'late_delivery_risk', correlated_columns_pca, test_size=0.2, transform = True, transform_type = 'pca')"
   ]
  },
  {
   "cell_type": "code",
   "execution_count": 24,
   "metadata": {},
   "outputs": [
    {
     "name": "stdout",
     "output_type": "stream",
     "text": [
      "Logistic Regression initialized.\n",
      "Model Metrics: | Accuracy = 0.6889 | Precision = 0.7964 | Recall = 0.5816 | F1-score = 0.6723 |\n",
      "Confusion Matrix: \n",
      "[[13354  2944]\n",
      " [ 8287 11519]]\n",
      "\n",
      "The model is moderately good but could be improved.\n",
      "\n"
     ]
    }
   ],
   "source": [
    "# Train the model\n",
    "results_list, model_tree_pca = cm.train_model(X_train_pca, X_test_pca, y_train_pca, y_test_pca, model_name = model_to_test)"
   ]
  },
  {
   "cell_type": "markdown",
   "metadata": {},
   "source": [
    "🚨The 2 cells below are commented out as the GridSearch process is time-consuming. Below, you can find an image showcasing the results.\n",
    "\n",
    "![Hyperparameters Tunning with PCA](./images/hyperparameter_tunning_logistic_regression_pca.png)\n",
    "![Hyperparameters Tunning based on correlation with PCA](./images/hyperparameter_tunning_logistic_regression_based_on_correlation_coefficient_pca.png)"
   ]
  },
  {
   "cell_type": "code",
   "execution_count": 25,
   "metadata": {},
   "outputs": [],
   "source": [
    "# Hyperparameter tuning\n",
    "#results_df = cm.perform_grid_search(dataframe, 'late_delivery_risk', model = model_to_test, transform = True, transform_type = 'pca')"
   ]
  },
  {
   "cell_type": "code",
   "execution_count": 26,
   "metadata": {},
   "outputs": [],
   "source": [
    "#results_df"
   ]
  },
  {
   "cell_type": "code",
   "execution_count": 27,
   "metadata": {},
   "outputs": [
    {
     "name": "stdout",
     "output_type": "stream",
     "text": [
      "Features with correlation coefficient with target > than 0.04\n",
      "Columns that will be used for the training:\n",
      " ['shipping_mode_first_class', 'shipping_mode_second_class', 'hour_order', 'shipping_mode_same_day', 'type_transfer', 'days_for_shipment_scheduled', 'shipping_mode_standard_class'] \n",
      "\n",
      "Applying transformation: pca...\n",
      "Test size 20%:\n",
      "Training set size: 144412 | Test set size: 36104\n",
      "Model Metrics: | Accuracy = 0.6889 | Precision = 0.7964 | Recall = 0.5816 | F1-score = 0.6723 |\n",
      "Confusion Matrix: \n",
      "[[13354  2944]\n",
      " [ 8287 11519]]\n",
      "\n",
      "The model is moderately good but could be improved.\n",
      "\n"
     ]
    }
   ],
   "source": [
    "#Best parameters for LogisticRegression with PCA\n",
    "best_parameters = {'C': 0.001, 'class_weight': None, 'fit_intercept': True, 'max_iter': 100, 'penalty': 'l1', 'solver': 'liblinear', 'tol': 0.0001}\n",
    "best_correlation = 0.04\n",
    "best_test_size = 0.2\n",
    "final_model_pca = model_to_test()\n",
    "\n",
    "correlated_columns_pca = cm.selecting_features(dataframe, 'late_delivery_risk', corr_coef=best_correlation)\n",
    "X_train_pca, X_test_pca, y_train_pca, y_test_pca = cm.select_training_set(dataframe, 'late_delivery_risk', correlated_columns_pca, test_size=best_test_size, transform = True, transform_type = 'pca')\n",
    "results_list, final_model_pca = cm.train_model(X_train_pca, X_test_pca, y_train_pca, y_test_pca, model_name=model_to_test, model_tree=final_model_pca)"
   ]
  },
  {
   "cell_type": "markdown",
   "metadata": {},
   "source": [
    "#### PCA Transformation Results\n",
    "\n",
    "The PCA transformation did not enhance the model's performance. Despite reducing dimensionality, the accuracy and other evaluation metrics did not improve respect to original feature set. This suggests that the selected features already capture the most relevant information for predicting `late_delivery_risk`, and further dimensionality reduction through PCA was not beneficial in this case."
   ]
  },
  {
   "cell_type": "markdown",
   "metadata": {},
   "source": [
    "### MinMax"
   ]
  },
  {
   "cell_type": "code",
   "execution_count": 28,
   "metadata": {},
   "outputs": [
    {
     "name": "stdout",
     "output_type": "stream",
     "text": [
      "Features with correlation coefficient with target > than 0.04\n",
      "Columns that will be used for the training:\n",
      " ['shipping_mode_first_class', 'shipping_mode_second_class', 'hour_order', 'shipping_mode_same_day', 'type_transfer', 'days_for_shipment_scheduled', 'shipping_mode_standard_class'] \n",
      "\n"
     ]
    }
   ],
   "source": [
    "# Selecting features \n",
    "correlated_columns_mm = cm.selecting_features(dataframe, 'late_delivery_risk', corr_coef=0.04)"
   ]
  },
  {
   "cell_type": "code",
   "execution_count": 29,
   "metadata": {},
   "outputs": [
    {
     "name": "stdout",
     "output_type": "stream",
     "text": [
      "Applying transformation: minmax...\n",
      "Test size 20%:\n",
      "Training set size: 144412 | Test set size: 36104\n"
     ]
    }
   ],
   "source": [
    "# Splitting the data\n",
    "X_train_mm, X_test_mm, y_train_mm, y_test_mm = cm.select_training_set(dataframe, 'late_delivery_risk', correlated_columns_mm, test_size=0.2, transform = True, transform_type = 'minmax')"
   ]
  },
  {
   "cell_type": "code",
   "execution_count": 30,
   "metadata": {},
   "outputs": [
    {
     "name": "stdout",
     "output_type": "stream",
     "text": [
      "Logistic Regression initialized.\n",
      "Model Metrics: | Accuracy = 0.7091 | Precision = 0.8553 | Recall = 0.5654 | F1-score = 0.6808 |\n",
      "Confusion Matrix: \n",
      "[[14403  1895]\n",
      " [ 8608 11198]]\n",
      "\n",
      "The model is moderately good but could be improved.\n",
      "\n"
     ]
    }
   ],
   "source": [
    "# Train the model\n",
    "results_list, model_tree_mm = cm.train_model(X_train_mm, X_test_mm, y_train_mm, y_test_mm, model_name = model_to_test)"
   ]
  },
  {
   "cell_type": "markdown",
   "metadata": {},
   "source": [
    "🚨The 2 cells below are commented out as the GridSearch process is time-consuming. Below, you can find an image showcasing the results.\n",
    "\n",
    "![Hyperparameters Tunning with MinMAx](./images/hyperparameter_tunning_logistic_regression_minmax.png)\n",
    "![Hyperparameters Tunning based on correlation with MinMax](./images/hyperparameter_tunning_logistic_regression_based_on_correlation_coefficient_minmax.png)"
   ]
  },
  {
   "cell_type": "code",
   "execution_count": 31,
   "metadata": {},
   "outputs": [],
   "source": [
    "# Hyperparameter tuning\n",
    "#results_df = cm.perform_grid_search(dataframe, 'late_delivery_risk', model = model_to_test, transform = True, transform_type = 'minmax')"
   ]
  },
  {
   "cell_type": "code",
   "execution_count": 32,
   "metadata": {},
   "outputs": [],
   "source": [
    "#results_df"
   ]
  },
  {
   "cell_type": "code",
   "execution_count": 33,
   "metadata": {},
   "outputs": [
    {
     "name": "stdout",
     "output_type": "stream",
     "text": [
      "Features with correlation coefficient with target > than 0.04\n",
      "Columns that will be used for the training:\n",
      " ['shipping_mode_first_class', 'shipping_mode_second_class', 'hour_order', 'shipping_mode_same_day', 'type_transfer', 'days_for_shipment_scheduled', 'shipping_mode_standard_class'] \n",
      "\n",
      "Applying transformation: minmax...\n",
      "Test size 20%:\n",
      "Training set size: 144412 | Test set size: 36104\n",
      "Model Metrics: | Accuracy = 0.7091 | Precision = 0.8553 | Recall = 0.5654 | F1-score = 0.6808 |\n",
      "Confusion Matrix: \n",
      "[[14403  1895]\n",
      " [ 8608 11198]]\n",
      "\n",
      "The model is moderately good but could be improved.\n",
      "\n"
     ]
    }
   ],
   "source": [
    "#Best parameters\n",
    "best_parameters = {'C': 0.1, 'class_weight': 'balanced', 'fit_intercept': True, 'max_iter': 100, 'penalty': 'l2', 'solver': 'lbfgs', 'tol': 0.01}\n",
    "best_correlation = 0.04\n",
    "best_test_size = 0.2\n",
    "final_model_mm = model_to_test()\n",
    "\n",
    "correlated_columns_mm = cm.selecting_features(dataframe, 'late_delivery_risk', corr_coef=best_correlation)\n",
    "X_train_mm, X_test_mm, y_train_mm, y_test_mm = cm.select_training_set(dataframe, 'late_delivery_risk', correlated_columns_mm, test_size=best_test_size, transform = True, transform_type = 'minmax')\n",
    "results_list, final_model_mm = cm.train_model(X_train_mm, X_test_mm, y_train_mm, y_test_mm, model_name=model_to_test, model_tree=final_model_mm)"
   ]
  },
  {
   "cell_type": "markdown",
   "metadata": {},
   "source": [
    "#### MinMax Transformation Results\n",
    "\n",
    "The MinMax transformation maintained the model's performance, achieving consistent accuracy and evaluation metrics. The scaling process ensured that all features contributed equally to the model, avoiding dominance by features with larger ranges. However, the recall remains an area for improvement, indicating that some true positive cases are still being missed."
   ]
  },
  {
   "cell_type": "markdown",
   "metadata": {},
   "source": [
    "### Transformation Results\n",
    "\n",
    "The results obtained after applying transformations such as PCA and MinMax scaling did not significantly improve the model's performance compared to the original feature set. This indicates that the selected features already capture the most relevant information for predicting `late_delivery_risk`, and further transformations were not beneficial in this case."
   ]
  },
  {
   "cell_type": "markdown",
   "metadata": {},
   "source": [
    "## Model Evaluation"
   ]
  },
  {
   "cell_type": "code",
   "execution_count": 38,
   "metadata": {},
   "outputs": [
    {
     "data": {
      "image/png": "[encoded data removed]",
      "text/plain": [
       "<Figure size 640x480 with 2 Axes>"
      ]
     },
     "metadata": {},
     "output_type": "display_data"
    }
   ],
   "source": [
    "# Confusion Matrix\n",
    "cm.confusion_matrix_plot(final_model, X_test, y_test, correlated_columns)"
   ]
  },
  {
   "cell_type": "code",
   "execution_count": 42,
   "metadata": {},
   "outputs": [
    {
     "data": {
      "image/png": "[encoded data removed]",
      "text/plain": [
       "<Figure size 640x480 with 1 Axes>"
      ]
     },
     "metadata": {},
     "output_type": "display_data"
    }
   ],
   "source": [
    "# ROC Curve\n",
    "cm.roc_curve_plot(final_model, X_test, y_test, correlated_columns)"
   ]
  }
 ],
 "metadata": {
  "kernelspec": {
   "display_name": "ml_supply_chain",
   "language": "python",
   "name": "python3"
  },
  "language_info": {
   "codemirror_mode": {
    "name": "ipython",
    "version": 3
   },
   "file_extension": ".py",
   "mimetype": "text/x-python",
   "name": "python",
   "nbconvert_exporter": "python",
   "pygments_lexer": "ipython3",
   "version": "3.13.2"
  }
 },
 "nbformat": 4,
 "nbformat_minor": 2
}
